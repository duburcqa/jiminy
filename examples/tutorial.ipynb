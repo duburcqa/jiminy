{
 "cells": [
  {
   "cell_type": "markdown",
   "metadata": {},
   "source": [
    "# An introduction to Jiminy\n",
    "\n",
    "\n",
    "Jiminy is a simulation framework built around the `pinocchio` rigidbody dynamics library, targeting the simulation of robotic systems. This document covers the use of jiminy in python for individual robotic simulation: usage in C++ is similar, see C++ API documentation and examples. For information about using jiminy in a learning context with Gym OpenAI, see examples in gym_jiminy. \n",
    "\n",
    "Jiminy supports the following features:\n",
    "\n",
    " - Simulating a single robot, represented by a URDF, with possible ground interaction (modeled as a spring-damper interaction). Note that interaction force is only applied at user-specified points, there is no mesh collision handling in jiminy.\n",
    " - Adding joint flexibility, modeled as a Serie-Elastic actuator.\n",
    " - Applying external forces on the system.\n",
    " - Applying kinematic constraints, such as fixed-body constraints.\n",
    " - Simulalting multiple robots interacting, including closed kinematic trees.\n",
    " - Adding basic sensors on the system\n",
    "\n",
    "## Basic example\n",
    "\n",
    "To illustrate the first part of this tutorial, we will use as example the stabilization of a simple inverted pendulum.\n",
    "\n",
    "Jiminy simulation rely on interfacing three fundamental objects : a Robot, a Controller, defining input for this robot, and an Engine, performing the integration. For convenience, connection between these objects is handled in python by the BasicSimulator class (this class does not exist in C++). Of course, it is always possible to instanciate these objects manually for more specific usage - see the unit tests for examples.\n",
    "\n",
    "The robot is constructed from a URDF of course - this builds a jiminy.Model object - but extra information needs to be provided as well for a simulation: which sensors to use and what are their caracteristic ? Which joints have a motor attached and what are its properties ? What are the contact points with the ground (if any) ? All this are informations gathered to build a full robot.\n",
    "\n",
    "So let's get our first example running: we set the inverted pendulum away from its upward position and watch it fall."
   ]
  },
  {
   "cell_type": "code",
   "execution_count": null,
   "metadata": {},
   "outputs": [],
   "source": [
    "import numpy as np\n",
    "\n",
    "import jiminy_py.core as jiminy # The main module of jiminy - this is what gives access to the Robot and Engine class.\n",
    "from jiminy_py.simulator import BasicSimulator\n",
    "\n",
    "mesh_root_path=\"../data/\"\n",
    "urdf_path = mesh_root_path + \"simple_pendulum/simple_pendulum.urdf\"\n",
    "\n",
    "# Create a jiminy.Robot from the urdf.\n",
    "robot = jiminy.Robot()\n",
    "robot.initialize(urdf_path)\n",
    "\n",
    "# Attach a simple motor the pendulum base joint.\n",
    "motor = jiminy.SimpleMotor(\"PendulumJoint\")\n",
    "robot.attach_motor(motor)\n",
    "motor.initialize(\"PendulumJoint\")\n",
    "\n",
    "# Create the controller: for now, the motor is off and doesn't modify the output torque.\n",
    "def controller(t, q, v, sensor_data, u):\n",
    "    '''\n",
    "    Controller callback method.\n",
    "    Parameters:\n",
    "        - t: current time (in s).\n",
    "        - q: current system position (from the integrator) - this is the real state of the system and does not come from any sensor.\n",
    "        - v: current system velocity (from the integrator)\n",
    "        - sensor_data : aggregated structure of all sensor data.\n",
    "        - u: output torque.\n",
    "    '''\n",
    "    u[:] = 0 # Notice the [:]: this is to assign 0 to the underlying object, to pass it by reference to C++.\n",
    "             # Using instead u = np.zeros(1) would create a copy instead.\n",
    "\n",
    "# Create a simulator using this robot and controller\n",
    "simulator = BasicSimulator(robot)\n",
    "simulator.set_controller(controller)\n",
    "\n",
    "# Set initial condition and simulation length\n",
    "x0 = np.array([0.1, 0])\n",
    "simulation_duration = 10.0\n",
    "\n",
    "# Launch the simulation\n",
    "simulator.run(simulation_duration, x0)"
   ]
  },
  {
   "cell_type": "markdown",
   "metadata": {},
   "source": [
    "The simulation generates a log of its comuptation: this log can be retrieved by using ```simulator.get_log``` - and written to a file for latter processing by the engine with ```simulator.engine.write_log```."
   ]
  },
  {
   "cell_type": "code",
   "execution_count": null,
   "metadata": {},
   "outputs": [],
   "source": [
    "log_data, _ = simulator.get_log() # First output value is a dictionnary of logged variables, second a dictionnary\n",
    "                                  # of parameters specified by the user to comment the log.\n",
    "# Let's plot the joint position to see the pendulum fall.\n",
    "%matplotlib notebook\n",
    "import matplotlib.pyplot as plt\n",
    "\n",
    "plt.plot(log_data['Global.Time'], log_data['HighLevelController.currentPositionPendulum'])\n",
    "plt.title('Pendulum angle (rad)')\n",
    "plt.grid()\n",
    "plt.show()"
   ]
  },
  {
   "cell_type": "markdown",
   "metadata": {},
   "source": [
    "The results of a simulation can also be visualized in a 3D viewer: either `gepetto-gui` or `meshcat`. We use the latter here as it can be integrated in jupyter."
   ]
  },
  {
   "cell_type": "code",
   "execution_count": null,
   "metadata": {},
   "outputs": [],
   "source": [
    "from jiminy_py.viewer import play_logfiles\n",
    "\n",
    "play_logfiles(robot, log_data, mesh_root_path=mesh_root_path)"
   ]
  },
  {
   "cell_type": "markdown",
   "metadata": {},
   "source": [
    "Let's now add a controller: a simple PD to hold the pendulum straight."
   ]
  },
  {
   "cell_type": "code",
   "execution_count": null,
   "metadata": {},
   "outputs": [],
   "source": [
    "Kp = 5000\n",
    "Kd = 0.05\n",
    "\n",
    "def controller(t, q, v, sensor_data, u):\n",
    "    u[:] = - Kp * (q + Kd * v)\n",
    "    \n",
    "simulator.set_controller(controller)\n",
    "simulator.run(simulation_duration, x0)\n",
    "log_data, _ = simulator.get_log()\n",
    "play_logfiles(robot, log_data, mesh_root_path=mesh_root_path)"
   ]
  },
  {
   "cell_type": "markdown",
   "metadata": {},
   "source": [
    "## Adding external forces.\n",
    "\n",
    "External forces can be applied to the system through a force profile : a function outputing a force on\n",
    "a specific body as as a function of time dans state."
   ]
  },
  {
   "cell_type": "code",
   "execution_count": null,
   "metadata": {},
   "outputs": [],
   "source": [
    "# Apply a force of 500N in the Y direction between t = 2.5 and t = 3s\n",
    "def force_profile(t, q, v, f):\n",
    "    if t > 2.5 and t < 3:\n",
    "        f[1] = 200.0\n",
    "    else:\n",
    "        f[1] = 0.0\n",
    "\n",
    "# Apply this force profile to a given frame.\n",
    "simulator.engine.register_force_profile(\"PendulumMass\", force_profile)\n",
    "simulator.run(simulation_duration, x0)\n",
    "log_data, _ = simulator.get_log()\n",
    "play_logfiles(robot, log_data, mesh_root_path=mesh_root_path)"
   ]
  }
 ],
 "metadata": {
  "kernelspec": {
   "display_name": "Python 3",
   "language": "python",
   "name": "python3"
  },
  "language_info": {
   "codemirror_mode": {
    "name": "ipython",
    "version": 3
   },
   "file_extension": ".py",
   "mimetype": "text/x-python",
   "name": "python",
   "nbconvert_exporter": "python",
   "pygments_lexer": "ipython3",
   "version": "3.6.9"
  }
 },
 "nbformat": 4,
 "nbformat_minor": 4
}
