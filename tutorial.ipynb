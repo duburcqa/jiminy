{
  "cells": [
    {
      "cell_type": "code",
      "execution_count": null,
      "metadata": {
        "colab": {
          "base_uri": "https://localhost:8080/"
        },
        "id": "yjTVCwSyk2NH",
        "outputId": "53a08ca0-c780-4ddc-a696-708e73c96136"
      },
      "outputs": [],
      "source": [
        "# This module forward C++ errors to Python to help debugging\n",
        "%load_ext wurlitzer"
      ]
    },
    {
      "cell_type": "code",
      "execution_count": null,
      "metadata": {
        "id": "32kUY-kAfIGc"
      },
      "outputs": [],
      "source": [
        "import numpy as np\n",
        "import matplotlib.pyplot as plt\n",
        "\n",
        "import jiminy_py.core as jiminy  # The main module of jiminy - this is what gives access to the Robot\n",
        "from jiminy_py.simulator import Simulator\n",
        "\n",
        "from gym_jiminy.toolbox.math import quat_to_yaw"
      ]
    },
    {
      "cell_type": "markdown",
      "metadata": {
        "id": "wDNGYtKtvmzN"
      },
      "source": [
        "# Flexible arm"
      ]
    },
    {
      "cell_type": "markdown",
      "metadata": {
        "id": "IQOjUe-vjEdl"
      },
      "source": [
        "## Instantiate a robot"
      ]
    },
    {
      "cell_type": "code",
      "execution_count": null,
      "metadata": {
        "colab": {
          "base_uri": "https://localhost:8080/"
        },
        "id": "O4fR44d3rg-C",
        "outputId": "8bee4de2-73cd-40cd-ea57-18cf07f663dd"
      },
      "outputs": [],
      "source": [
        "# First mount the drive\n",
        "urdf_path = 'flexible_arm.urdf'\n",
        "robot = jiminy.Robot()\n",
        "robot.initialize(urdf_path, has_freeflyer=False)\n",
        "\n",
        "# Add motor\n",
        "motor_joint_name = 'base_to_link1'\n",
        "motor = jiminy.SimpleMotor(motor_joint_name)\n",
        "robot.attach_motor(motor)\n",
        "motor.initialize(motor_joint_name)\n",
        "\n",
        "# Add sensor\n",
        "encoder = jiminy.EncoderSensor('active_joint')\n",
        "robot.attach_sensor(encoder)\n",
        "encoder.initialize('base_to_link1')"
      ]
    },
    {
      "cell_type": "code",
      "execution_count": null,
      "metadata": {
        "id": "kGuOi1uZsAjn"
      },
      "outputs": [],
      "source": [
        "# We set inertia along non-moving axis to 1.0 for numerical stability \n",
        "k_j = 100.0\n",
        "d_j = 5.0\n",
        "model_options = robot.get_model_options()\n",
        "model_options['dynamics']['flexibilityConfig'] = [{\n",
        "    'frameName': f\"link{i}_to_link{i+1}\",\n",
        "    'stiffness': k_j * np.ones(3),\n",
        "    'damping': d_j * np.ones(3),\n",
        "    'inertia': np.array([1.0, 1.0, 0.0])\n",
        "} for i in range(1,5)]\n",
        "model_options['joints']['enablePositionLimit'] = False\n",
        "model_options['joints']['enableVelocityLimit'] = False\n",
        "robot.set_model_options(model_options)"
      ]
    },
    {
      "cell_type": "markdown",
      "metadata": {
        "id": "Sh5VAawZjWHN"
      },
      "source": [
        "## Instantiate a controller"
      ]
    },
    {
      "cell_type": "code",
      "execution_count": null,
      "metadata": {
        "id": "-WbbBh7itIWk"
      },
      "outputs": [],
      "source": [
        "# Define the command: for now, the motor is off and doesn't modify the output torque.\n",
        "Kp = 150.\n",
        "Kd = 5.\n",
        "q_ref = np.pi/4\n",
        "def compute_command(t, q, v, sensors_data, command):\n",
        "    q_ref = np.pi/4\n",
        "    q_a = sensors_data['EncoderSensor'][0]\n",
        "    v_a = sensors_data['EncoderSensor'][1]\n",
        "    command[:] = Kp*(q_ref - q_a) - Kd*v_a"
      ]
    },
    {
      "cell_type": "code",
      "execution_count": null,
      "metadata": {
        "colab": {
          "base_uri": "https://localhost:8080/"
        },
        "id": "dNfQ4u26udQu",
        "outputId": "4f4c6e66-41e8-4f35-f8bd-5344ad5c7f80"
      },
      "outputs": [
        {
          "data": {
            "text/plain": [
              "jiminy_py.core.hresult_t.SUCCESS"
            ]
          },
          "execution_count": 194,
          "metadata": {},
          "output_type": "execute_result"
        }
      ],
      "source": [
        "# Instantiate and initialize the controller\n",
        "controller = jiminy.ControllerFunctor(compute_command)\n",
        "controller.initialize(robot)"
      ]
    },
    {
      "cell_type": "markdown",
      "metadata": {
        "id": "nnEnZueujbji"
      },
      "source": [
        "## Instantiate a simulator"
      ]
    },
    {
      "cell_type": "code",
      "execution_count": null,
      "metadata": {
        "id": "CYPHSpl7uhji"
      },
      "outputs": [],
      "source": [
        "# Create a simulator using this robot and controller\n",
        "simulator = Simulator(robot, controller)"
      ]
    },
    {
      "cell_type": "code",
      "execution_count": null,
      "metadata": {
        "colab": {
          "base_uri": "https://localhost:8080/"
        },
        "id": "181R1xUzdkhA",
        "outputId": "0b1d5551-e4bd-4b14-c977-c4a8f4ecc856"
      },
      "outputs": [],
      "source": [
        "# Configure the integrator\n",
        "engine_options = simulator.engine.get_options()\n",
        "engine_options['stepper']['controllerUpdatePeriod'] = 0.001\n",
        "engine_options['stepper']['odeSolver'] = 'runge_kutta_4'\n",
        "engine_options['stepper']['dtMax'] = 0.000125\n",
        "simulator.engine.set_options(engine_options)"
      ]
    },
    {
      "cell_type": "code",
      "execution_count": null,
      "metadata": {
        "colab": {
          "base_uri": "https://localhost:8080/"
        },
        "id": "kud901x1C7Ac",
        "outputId": "9da178d7-8abf-4b6f-f5f0-996d89cc13cf"
      },
      "outputs": [],
      "source": [
        "# print out all the available engine options\n",
        "engine_options"
      ]
    },
    {
      "cell_type": "markdown",
      "metadata": {
        "id": "SK9F6ypokSUl"
      },
      "source": [
        "## Simulate the system"
      ]
    },
    {
      "cell_type": "code",
      "execution_count": null,
      "metadata": {
        "colab": {
          "base_uri": "https://localhost:8080/",
          "height": 86,
          "referenced_widgets": [
            "5fe3c20416384ffebe336a1e19442366",
            "b6b1dfb6eac34c0a8f62a4524cf20d4c",
            "8943928a161442d48dc2f8f404a7a006",
            "03ac59babdb84c42b4ed0630bf17cc5a",
            "9fc0e1d3a8fa494bb5c49ba6f3e1eccd",
            "ca68238b2228427a8d44c5b51cd9b30d",
            "9bcffe8e248244fd9e0be1ec83bc4856",
            "b2afaebc13d642a483b72a0e4e7792b7",
            "510d7ddbd84a4434840326d8cd68028a",
            "1f18d7eb44e74593b05ab9ca7a2637e8",
            "3ff20101e2a545369ab61028ccaf2b24"
          ]
        },
        "id": "iUwH4jyLuoDS",
        "outputId": "7d54ab0c-dec3-466f-ccec-2c81c6102a78"
      },
      "outputs": [],
      "source": [
        "# Set initial condition and simulation length\n",
        "q0, v0 = np.array([0.]), np.array([0.])\n",
        "duration = 2.0\n",
        "\n",
        "# Launch the simulation\n",
        "simulator.simulate(duration, q0, v0, is_state_theoretical=True)"
      ]
    },
    {
      "cell_type": "code",
      "execution_count": null,
      "metadata": {
        "id": "vqbzKJ4ZwgWK"
      },
      "outputs": [],
      "source": [
        "# Replay the result\n",
        "camera_xyzrpy = ([0.0, -1.5, 2.0e-5], [np.pi/2, 0.0, 0.0])\n",
        "simulator.replay(camera_xyzrpy=camera_xyzrpy, speed_ratio=0.5)"
      ]
    },
    {
      "cell_type": "code",
      "execution_count": null,
      "metadata": {
        "colab": {
          "base_uri": "https://localhost:8080/",
          "height": 267
        },
        "id": "qRiR9JCmv7sr",
        "outputId": "0bdc7424-4225-4681-dd0c-bc81ffc1c7fb"
      },
      "outputs": [],
      "source": [
        "# Get dictionary of logged scalar variables\n",
        "log_data = simulator.log_data\n",
        "\n",
        "# Display the true position and velocity of the actuated joint\n",
        "_, (ax1, ax2) = plt.subplots(1,2, figsize=(12,4))\n",
        "ax1.plot(log_data['Global.Time'], log_data['HighLevelController.currentPositionbase_to_link1'])\n",
        "ax1.grid()\n",
        "ax2.plot(log_data['Global.Time'], log_data['HighLevelController.currentVelocitybase_to_link1'])\n",
        "ax2.grid()\n",
        "plt.show()\n",
        "\n",
        "# Display the true effort at the actuated joint. \n",
        "# It includes the internal dynamics if any (friction, plus custom if any).\n",
        "_, ax = plt.subplots()\n",
        "ax.plot(log_data['Global.Time'], log_data['HighLevelController.currentEffortbase_to_link1'])\n",
        "ax.grid()\n",
        "ax.set_title('Torque (Nm)')\n",
        "plt.show()"
      ]
    },
    {
      "cell_type": "code",
      "execution_count": null,
      "metadata": {
        "id": "tvmXkveUqVQt"
      },
      "outputs": [],
      "source": [
        "# Extract the deformation angles along rotation axis\n",
        "qf = []\n",
        "for fj_name, fj_idx in zip(robot.flexible_joints_names, robot.flexible_joints_idx):\n",
        "    quat = (log_data[f'HighLevelController.currentPosition{fj_name}QuatX'],\n",
        "            log_data[f'HighLevelController.currentPosition{fj_name}QuatY'],\n",
        "            log_data[f'HighLevelController.currentPosition{fj_name}QuatZ'],\n",
        "            log_data[f'HighLevelController.currentPosition{fj_name}QuatW'])\n",
        "    idx_q = robot.pinocchio_model.joints[fj_idx].idx_q\n",
        "    cos_yaw = - 1.0 + 2.0 * (quat[3] ** 2 + quat[0] ** 2)\n",
        "    sin_yaw = 2.0 * (quat[2] * quat[3] + quat[0] * quat[1])\n",
        "    qf.append(np.arctan2(sin_yaw, cos_yaw))\n",
        "qf = np.stack(qf, axis=0)"
      ]
    },
    {
      "cell_type": "code",
      "execution_count": null,
      "metadata": {
        "colab": {
          "base_uri": "https://localhost:8080/",
          "height": 281
        },
        "id": "pi5NtfYngQmE",
        "outputId": "3590e7af-46fc-4d72-fccd-0dfea6cddec5"
      },
      "outputs": [],
      "source": [
        "# Display the deformation angles\n",
        "for k, column in enumerate(qf.T):\n",
        "   plt.plot(log_data['Global.Time'], column, label=f'q{k}')\n",
        "plt.grid()\n",
        "plt.legend()\n",
        "plt.title('Flexible joints angles (rad)')\n",
        "plt.show()"
      ]
    }
  ],
  "metadata": {
    "colab": {
      "collapsed_sections": [],
      "name": "getting_started_with_Jiminy.ipynb",
      "provenance": [],
      "toc_visible": true
    },
    "kernelspec": {
      "display_name": "Python 3",
      "name": "python3"
    },
    "language_info": {
      "name": "python"
    },
    "widgets": {
      "application/vnd.jupyter.widget-state+json": {
        "03ac59babdb84c42b4ed0630bf17cc5a": {
          "model_module": "@jupyter-widgets/controls",
          "model_module_version": "1.5.0",
          "model_name": "HTMLModel",
          "state": {
            "_dom_classes": [],
            "_model_module": "@jupyter-widgets/controls",
            "_model_module_version": "1.5.0",
            "_model_name": "HTMLModel",
            "_view_count": null,
            "_view_module": "@jupyter-widgets/controls",
            "_view_module_version": "1.5.0",
            "_view_name": "HTMLView",
            "description": "",
            "description_tooltip": null,
            "layout": "IPY_MODEL_1f18d7eb44e74593b05ab9ca7a2637e8",
            "placeholder": "​",
            "style": "IPY_MODEL_3ff20101e2a545369ab61028ccaf2b24",
            "value": " 2.00/2.0 [00:02&lt;00:00]"
          }
        },
        "1f18d7eb44e74593b05ab9ca7a2637e8": {
          "model_module": "@jupyter-widgets/base",
          "model_module_version": "1.2.0",
          "model_name": "LayoutModel",
          "state": {
            "_model_module": "@jupyter-widgets/base",
            "_model_module_version": "1.2.0",
            "_model_name": "LayoutModel",
            "_view_count": null,
            "_view_module": "@jupyter-widgets/base",
            "_view_module_version": "1.2.0",
            "_view_name": "LayoutView",
            "align_content": null,
            "align_items": null,
            "align_self": null,
            "border": null,
            "bottom": null,
            "display": null,
            "flex": null,
            "flex_flow": null,
            "grid_area": null,
            "grid_auto_columns": null,
            "grid_auto_flow": null,
            "grid_auto_rows": null,
            "grid_column": null,
            "grid_gap": null,
            "grid_row": null,
            "grid_template_areas": null,
            "grid_template_columns": null,
            "grid_template_rows": null,
            "height": null,
            "justify_content": null,
            "justify_items": null,
            "left": null,
            "margin": null,
            "max_height": null,
            "max_width": null,
            "min_height": null,
            "min_width": null,
            "object_fit": null,
            "object_position": null,
            "order": null,
            "overflow": null,
            "overflow_x": null,
            "overflow_y": null,
            "padding": null,
            "right": null,
            "top": null,
            "visibility": null,
            "width": null
          }
        },
        "3ff20101e2a545369ab61028ccaf2b24": {
          "model_module": "@jupyter-widgets/controls",
          "model_module_version": "1.5.0",
          "model_name": "DescriptionStyleModel",
          "state": {
            "_model_module": "@jupyter-widgets/controls",
            "_model_module_version": "1.5.0",
            "_model_name": "DescriptionStyleModel",
            "_view_count": null,
            "_view_module": "@jupyter-widgets/base",
            "_view_module_version": "1.2.0",
            "_view_name": "StyleView",
            "description_width": ""
          }
        },
        "510d7ddbd84a4434840326d8cd68028a": {
          "model_module": "@jupyter-widgets/controls",
          "model_module_version": "1.5.0",
          "model_name": "ProgressStyleModel",
          "state": {
            "_model_module": "@jupyter-widgets/controls",
            "_model_module_version": "1.5.0",
            "_model_name": "ProgressStyleModel",
            "_view_count": null,
            "_view_module": "@jupyter-widgets/base",
            "_view_module_version": "1.2.0",
            "_view_name": "StyleView",
            "bar_color": null,
            "description_width": ""
          }
        },
        "5fe3c20416384ffebe336a1e19442366": {
          "model_module": "@jupyter-widgets/controls",
          "model_module_version": "1.5.0",
          "model_name": "HBoxModel",
          "state": {
            "_dom_classes": [],
            "_model_module": "@jupyter-widgets/controls",
            "_model_module_version": "1.5.0",
            "_model_name": "HBoxModel",
            "_view_count": null,
            "_view_module": "@jupyter-widgets/controls",
            "_view_module_version": "1.5.0",
            "_view_name": "HBoxView",
            "box_style": "",
            "children": [
              "IPY_MODEL_b6b1dfb6eac34c0a8f62a4524cf20d4c",
              "IPY_MODEL_8943928a161442d48dc2f8f404a7a006",
              "IPY_MODEL_03ac59babdb84c42b4ed0630bf17cc5a"
            ],
            "layout": "IPY_MODEL_9fc0e1d3a8fa494bb5c49ba6f3e1eccd"
          }
        },
        "8943928a161442d48dc2f8f404a7a006": {
          "model_module": "@jupyter-widgets/controls",
          "model_module_version": "1.5.0",
          "model_name": "FloatProgressModel",
          "state": {
            "_dom_classes": [],
            "_model_module": "@jupyter-widgets/controls",
            "_model_module_version": "1.5.0",
            "_model_name": "FloatProgressModel",
            "_view_count": null,
            "_view_module": "@jupyter-widgets/controls",
            "_view_module_version": "1.5.0",
            "_view_name": "ProgressView",
            "bar_style": "danger",
            "description": "",
            "description_tooltip": null,
            "layout": "IPY_MODEL_b2afaebc13d642a483b72a0e4e7792b7",
            "max": 2,
            "min": 0,
            "orientation": "horizontal",
            "style": "IPY_MODEL_510d7ddbd84a4434840326d8cd68028a",
            "value": 1.999
          }
        },
        "9bcffe8e248244fd9e0be1ec83bc4856": {
          "model_module": "@jupyter-widgets/controls",
          "model_module_version": "1.5.0",
          "model_name": "DescriptionStyleModel",
          "state": {
            "_model_module": "@jupyter-widgets/controls",
            "_model_module_version": "1.5.0",
            "_model_name": "DescriptionStyleModel",
            "_view_count": null,
            "_view_module": "@jupyter-widgets/base",
            "_view_module_version": "1.2.0",
            "_view_name": "StyleView",
            "description_width": ""
          }
        },
        "9fc0e1d3a8fa494bb5c49ba6f3e1eccd": {
          "model_module": "@jupyter-widgets/base",
          "model_module_version": "1.2.0",
          "model_name": "LayoutModel",
          "state": {
            "_model_module": "@jupyter-widgets/base",
            "_model_module_version": "1.2.0",
            "_model_name": "LayoutModel",
            "_view_count": null,
            "_view_module": "@jupyter-widgets/base",
            "_view_module_version": "1.2.0",
            "_view_name": "LayoutView",
            "align_content": null,
            "align_items": null,
            "align_self": null,
            "border": null,
            "bottom": null,
            "display": null,
            "flex": null,
            "flex_flow": null,
            "grid_area": null,
            "grid_auto_columns": null,
            "grid_auto_flow": null,
            "grid_auto_rows": null,
            "grid_column": null,
            "grid_gap": null,
            "grid_row": null,
            "grid_template_areas": null,
            "grid_template_columns": null,
            "grid_template_rows": null,
            "height": null,
            "justify_content": null,
            "justify_items": null,
            "left": null,
            "margin": null,
            "max_height": null,
            "max_width": null,
            "min_height": null,
            "min_width": null,
            "object_fit": null,
            "object_position": null,
            "order": null,
            "overflow": null,
            "overflow_x": null,
            "overflow_y": null,
            "padding": null,
            "right": null,
            "top": null,
            "visibility": null,
            "width": null
          }
        },
        "b2afaebc13d642a483b72a0e4e7792b7": {
          "model_module": "@jupyter-widgets/base",
          "model_module_version": "1.2.0",
          "model_name": "LayoutModel",
          "state": {
            "_model_module": "@jupyter-widgets/base",
            "_model_module_version": "1.2.0",
            "_model_name": "LayoutModel",
            "_view_count": null,
            "_view_module": "@jupyter-widgets/base",
            "_view_module_version": "1.2.0",
            "_view_name": "LayoutView",
            "align_content": null,
            "align_items": null,
            "align_self": null,
            "border": null,
            "bottom": null,
            "display": null,
            "flex": null,
            "flex_flow": null,
            "grid_area": null,
            "grid_auto_columns": null,
            "grid_auto_flow": null,
            "grid_auto_rows": null,
            "grid_column": null,
            "grid_gap": null,
            "grid_row": null,
            "grid_template_areas": null,
            "grid_template_columns": null,
            "grid_template_rows": null,
            "height": null,
            "justify_content": null,
            "justify_items": null,
            "left": null,
            "margin": null,
            "max_height": null,
            "max_width": null,
            "min_height": null,
            "min_width": null,
            "object_fit": null,
            "object_position": null,
            "order": null,
            "overflow": null,
            "overflow_x": null,
            "overflow_y": null,
            "padding": null,
            "right": null,
            "top": null,
            "visibility": null,
            "width": null
          }
        },
        "b6b1dfb6eac34c0a8f62a4524cf20d4c": {
          "model_module": "@jupyter-widgets/controls",
          "model_module_version": "1.5.0",
          "model_name": "HTMLModel",
          "state": {
            "_dom_classes": [],
            "_model_module": "@jupyter-widgets/controls",
            "_model_module_version": "1.5.0",
            "_model_name": "HTMLModel",
            "_view_count": null,
            "_view_module": "@jupyter-widgets/controls",
            "_view_module_version": "1.5.0",
            "_view_name": "HTMLView",
            "description": "",
            "description_tooltip": null,
            "layout": "IPY_MODEL_ca68238b2228427a8d44c5b51cd9b30d",
            "placeholder": "​",
            "style": "IPY_MODEL_9bcffe8e248244fd9e0be1ec83bc4856",
            "value": "100%"
          }
        },
        "ca68238b2228427a8d44c5b51cd9b30d": {
          "model_module": "@jupyter-widgets/base",
          "model_module_version": "1.2.0",
          "model_name": "LayoutModel",
          "state": {
            "_model_module": "@jupyter-widgets/base",
            "_model_module_version": "1.2.0",
            "_model_name": "LayoutModel",
            "_view_count": null,
            "_view_module": "@jupyter-widgets/base",
            "_view_module_version": "1.2.0",
            "_view_name": "LayoutView",
            "align_content": null,
            "align_items": null,
            "align_self": null,
            "border": null,
            "bottom": null,
            "display": null,
            "flex": null,
            "flex_flow": null,
            "grid_area": null,
            "grid_auto_columns": null,
            "grid_auto_flow": null,
            "grid_auto_rows": null,
            "grid_column": null,
            "grid_gap": null,
            "grid_row": null,
            "grid_template_areas": null,
            "grid_template_columns": null,
            "grid_template_rows": null,
            "height": null,
            "justify_content": null,
            "justify_items": null,
            "left": null,
            "margin": null,
            "max_height": null,
            "max_width": null,
            "min_height": null,
            "min_width": null,
            "object_fit": null,
            "object_position": null,
            "order": null,
            "overflow": null,
            "overflow_x": null,
            "overflow_y": null,
            "padding": null,
            "right": null,
            "top": null,
            "visibility": null,
            "width": null
          }
        }
      }
    }
  },
  "nbformat": 4,
  "nbformat_minor": 0
}
