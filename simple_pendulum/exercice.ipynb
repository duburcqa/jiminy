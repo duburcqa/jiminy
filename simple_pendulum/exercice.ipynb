{
  "cells": [
    {
      "cell_type": "code",
      "execution_count": null,
      "metadata": {
        "id": "lu89Frj1Z6FN"
      },
      "outputs": [],
      "source": [
        "# Setup the environment for google colab\n",
        "try:\n",
        "    from google.colab import output\n",
        "    output.enable_custom_widget_manager()\n",
        "    !pip install ipympl wurlitzer \"jiminy_py[meshcat]==1.7.18.post1\" > /dev/null 2>&1\n",
        "    !wget https://raw.githubusercontent.com/duburcqa/jiminy/demo/simple_pendulum/robot.urdf -O robot.urdf > /dev/null 2>&1\n",
        "    !wget https://raw.githubusercontent.com/duburcqa/jiminy/demo/simple_pendulum/robot_hardware.toml -O robot_hardware.toml > /dev/null 2>&1\n",
        "    !wget https://raw.githubusercontent.com/duburcqa/jiminy/demo/simple_pendulum/robot_options.toml -O robot_options.toml > /dev/null 2>&1\n",
        "    !wget https://raw.githubusercontent.com/duburcqa/jiminy/demo/simple_pendulum/part_1.toml -O part_1.toml > /dev/null 2>&1\n",
        "    !wget https://raw.githubusercontent.com/duburcqa/jiminy/demo/simple_pendulum/part_2.toml -O part_2.toml > /dev/null 2>&1\n",
        "    !wget https://raw.githubusercontent.com/duburcqa/jiminy/demo/simple_pendulum/part_3.toml -O part_3.toml > /dev/null 2>&1\n",
        "except ImportError:\n",
        "    pass"
      ]
    },
    {
      "cell_type": "code",
      "execution_count": null,
      "metadata": {
        "id": "jCypsKXuV-HT"
      },
      "outputs": [],
      "source": [
        "# This module forward C++ errors to Python to help debugging\n",
        "%load_ext wurlitzer"
      ]
    },
    {
      "cell_type": "code",
      "execution_count": null,
      "metadata": {
        "id": "99RP70pOWBLt"
      },
      "outputs": [],
      "source": [
        "# Enable matplotlib interactive notebook integration\n",
        "%matplotlib widget"
      ]
    },
    {
      "cell_type": "code",
      "execution_count": null,
      "metadata": {
        "id": "FlJDZjYxWCjy"
      },
      "outputs": [],
      "source": [
        "# Generic import that will be useful throughout this notebook\n",
        "import numpy as np\n",
        "import matplotlib.pyplot as plt\n",
        "\n",
        "# The main module of jiminy\n",
        "import jiminy_py.core as jiminy\n",
        "from jiminy_py.simulator import Simulator\n",
        "\n",
        "# Import low-level Rigid-Body Dynamics library\n",
        "import pinocchio as pin"
      ]
    },
    {
      "cell_type": "code",
      "execution_count": null,
      "metadata": {
        "id": "nYXI3z2kX4Ig"
      },
      "outputs": [],
      "source": [
        "# Instantiate the robot\n",
        "simulator = Simulator.build(urdf_path=\"robot.urdf\", has_freeflyer=False)\n",
        "\n",
        "# Import \"part_<X>.toml\") to load exercice <X> by increasing difficulty up to 3, then comment out import\n",
        "simulator.import_options(\"part_1.toml\")"
      ]
    },
    {
      "cell_type": "code",
      "execution_count": null,
      "metadata": {
        "id": "buDonRXiaI4Y"
      },
      "outputs": [],
      "source": [
        "# Get the list of available sensors\n",
        "simulator.robot.sensors_names"
      ]
    },
    {
      "cell_type": "code",
      "execution_count": null,
      "metadata": {
        "id": "ae-hT-_o7ZS9"
      },
      "outputs": [],
      "source": [
        "# Define gravity and get mass of the pole\n",
        "gravity = 9.81\n",
        "mass = simulator.robot.pinocchio_data.mass[0]\n",
        "length = simulator.robot.pinocchio_data.oMf[-2].translation[-1]"
      ]
    },
    {
      "cell_type": "code",
      "execution_count": null,
      "metadata": {
        "id": "wAtB87uxg6Qa"
      },
      "outputs": [],
      "source": [
        "# Define the command: for now, the motor outputs zero torque.\n",
        "def compute_command(t, q, v, sensors_data, command):\n",
        "    global angle_desired\n",
        "    q_mot, v_mot = sensors_data['EncoderSensor', 'PendulumJoint']\n",
        "    command[:] = 0.0  # TODO: Replace this line\n",
        "\n",
        "# Instantiate the controller and attach it to the robot\n",
        "controller = jiminy.ControllerFunctor(compute_command)\n",
        "controller.initialize(simulator.robot)\n",
        "simulator.set_controller(controller)"
      ]
    },
    {
      "cell_type": "code",
      "execution_count": null,
      "metadata": {
        "id": "QxqDl15VgH23"
      },
      "outputs": [],
      "source": [
        "for _ in range(10):\n",
        "    # Set initial condition and target pole angle\n",
        "    q_init = pin.neutral(simulator.robot.pinocchio_model_th)\n",
        "    v_init = np.random.rand(simulator.robot.pinocchio_model_th.nv)\n",
        "\n",
        "    # Launch the simulation\n",
        "    angle_desired = np.pi * np.random.rand()\n",
        "    simulator.simulate(t_end=3.0, q_init=q_init, v_init=v_init, is_state_theoretical=True)\n",
        "\n",
        "    # Check it the desired pole angle has been reached within acceptable margins\n",
        "    print(\"Desired pole angle:\", angle_desired)\n",
        "    gyro_data, accel_data = np.split(simulator.robot.sensors_data['ImuSensor', 'PendulumMass'].copy(), 2)\n",
        "    assert np.allclose(gyro_data, 0.0, atol=1e-3), \"Pole has not reached equilibrium\"\n",
        "    angle = 0.0  # TODO: Replace this line\n",
        "    error_angle = min(np.abs(angle - angle_desired), 2.0 * np.pi - np.abs(angle - angle_desired))\n",
        "    print(\"Error pole angle:\", error_angle)\n",
        "    assert error_angle < 5e-3, f\"Error is too large: measured={angle:.3f}, target={angle_desired:.3f}\""
      ]
    },
    {
      "cell_type": "code",
      "execution_count": null,
      "metadata": {
        "id": "DV-Zko0bgSkx"
      },
      "outputs": [],
      "source": [
        "# Replay the simulation\n",
        "camera_pose = ([-5.0, 0.0, 0.0], [np.pi/2, 0.0, -np.pi/2])\n",
        "simulator.replay(camera_pose=camera_pose, speed_ratio=1.0, record_video_size=(400, 400))\n",
        "simulator.close()"
      ]
    },
    {
      "cell_type": "code",
      "execution_count": null,
      "metadata": {
        "id": "N_jMnoUik9ln"
      },
      "outputs": [],
      "source": [
        "# Plot command and sensors data\n",
        "fig_tabbed = simulator.plot()\n",
        "fig_tabbed.remove_tab('State Position')"
      ]
    }
  ],
  "metadata": {
    "colab": {
      "provenance": []
    },
    "kernelspec": {
      "display_name": "Python 3",
      "name": "python3"
    },
    "language_info": {
      "name": "python"
    }
  },
  "nbformat": 4,
  "nbformat_minor": 0
}
